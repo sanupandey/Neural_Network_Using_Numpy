{
 "cells": [
  {
   "cell_type": "code",
   "execution_count": 1,
   "metadata": {},
   "outputs": [],
   "source": [
    "import numpy as np"
   ]
  },
  {
   "cell_type": "code",
   "execution_count": 2,
   "metadata": {},
   "outputs": [],
   "source": [
    "# Create input and Output Matrix\n",
    "# Input \n",
    "X = np.array([[1,2,3,2,5],[0,4,3,1,2],[2,4,7,1,7]])\n",
    "# Output\n",
    "y=np.array([[1],[0],[1]])"
   ]
  },
  {
   "cell_type": "code",
   "execution_count": 3,
   "metadata": {},
   "outputs": [],
   "source": [
    "#Sigmoid function\n",
    "def sig(x):\n",
    "    return 1/(1+np.exp(-x))"
   ]
  },
  {
   "cell_type": "code",
   "execution_count": 4,
   "metadata": {},
   "outputs": [],
   "source": [
    "#Derivative of Sigmoid function\n",
    "def der_sig(x):\n",
    "    return x*(1-x)"
   ]
  },
  {
   "cell_type": "code",
   "execution_count": 5,
   "metadata": {},
   "outputs": [],
   "source": [
    "# variable initialization\n",
    "epoch=5000\n",
    "lr=0.1\n",
    "input_layer_neurons=X.shape[1]\n",
    "hidden_layer_neurons=3\n",
    "output_neurons=1"
   ]
  },
  {
   "cell_type": "code",
   "execution_count": 6,
   "metadata": {},
   "outputs": [],
   "source": [
    "#weight and bias initialization\n",
    "wh=np.random.uniform(size=(input_layer_neurons,hidden_layer_neurons))\n",
    "bh=np.random.uniform(size=(1,hidden_layer_neurons))\n",
    "wout=np.random.uniform(size=(hidden_layer_neurons,output_neurons))\n",
    "bout=np.random.uniform(size=(1,output_neurons))"
   ]
  },
  {
   "cell_type": "code",
   "execution_count": 8,
   "metadata": {},
   "outputs": [
    {
     "name": "stdout",
     "output_type": "stream",
     "text": [
      "Neural Network output =\n",
      " [[0.974]\n",
      " [0.04 ]\n",
      " [0.974]]\n",
      "\n",
      "Actual Output =\n",
      " [[1]\n",
      " [0]\n",
      " [1]]\n"
     ]
    }
   ],
   "source": [
    "for i in range(epoch):\n",
    "    \n",
    "    #forward propogation\n",
    "    hidden_layer_input_1=np.dot(X,wh)\n",
    "    hidden_layer_input=np.dot(X,wh)+bh\n",
    "    hidden_layer_activation=sig(hidden_layer_input)\n",
    "    output_layer_input=np.dot(hidden_layer_activation,wout)+bout\n",
    "    output=sig(output_layer_input)\n",
    "    \n",
    "    #Backpropogation\n",
    "    E=y-output\n",
    "    slope_output_layer=der_sig(output)\n",
    "    slope_hidden_layer=der_sig(hidden_layer_activation)\n",
    "    d_output=E*slope_output_layer\n",
    "    Error_at_hidden_layer=d_output.dot(wout.T)\n",
    "    d_hidden_layer=Error_at_hidden_layer*slope_hidden_layer\n",
    "    wout+=hidden_layer_activation.T.dot(d_output)*lr\n",
    "    bout+=np.sum(d_output,axis=0,keepdims=True)*lr\n",
    "    wh+=X.T.dot(d_hidden_layer)*lr\n",
    "    bh+=np.sum(d_hidden_layer,axis=0,keepdims=True)*lr\n",
    "    \n",
    "print(\"Neural Network output =\\n\",output.round(3))\n",
    "print(\"\\nActual Output =\\n\",y)"
   ]
  },
  {
   "cell_type": "code",
   "execution_count": null,
   "metadata": {},
   "outputs": [],
   "source": []
  }
 ],
 "metadata": {
  "kernelspec": {
   "display_name": "Python 3",
   "language": "python",
   "name": "python3"
  },
  "language_info": {
   "codemirror_mode": {
    "name": "ipython",
    "version": 3
   },
   "file_extension": ".py",
   "mimetype": "text/x-python",
   "name": "python",
   "nbconvert_exporter": "python",
   "pygments_lexer": "ipython3",
   "version": "3.8.5"
  }
 },
 "nbformat": 4,
 "nbformat_minor": 4
}
